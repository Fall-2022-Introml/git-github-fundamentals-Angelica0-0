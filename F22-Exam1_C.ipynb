{
 "cells": [
  {
   "cell_type": "markdown",
   "id": "textile-retailer",
   "metadata": {
    "deletable": false,
    "editable": false,
    "nbgrader": {
     "cell_type": "markdown",
     "checksum": "2808da79c696b26091f06392f65eda7c",
     "grade": false,
     "grade_id": "Instructions",
     "locked": true,
     "schema_version": 3,
     "solution": false,
     "task": false
    }
   },
   "source": [
    "###### Exam-1: Fall 2022\n",
    "#### Total number of points: 40\n",
    "\n",
    "This is an open-book test. However, talking or chatting with your classmates is NOT permitted and will be considered plagiarism. \n",
    "\n",
    "<b>Before you submit this test, make sure your answers are saved, and everything runs as expected</b>. \n",
    "\n",
    "- For empty notebook submissions, you will receive 0 points. \n",
    "- If instructions (including not using the same variable names) are not followed that led to a wrong answer, you will receive 0 points. \n",
    "\n",
    "First, restart the kernel (in the menu, select Kernel → Restart) and then run all cells (in the menubar, select Cell → Run All).\n",
    "Steps to evaluate your solutions:\n",
    "\n",
    "Step-1: Ensure you have installed Anaconda (Windows: https://docs.anaconda.com/anaconda/install/windows/ ; Mac:https://docs.anaconda.com/anaconda/install/mac-os/ ; Linux: https://docs.anaconda.com/anaconda/install/linux/)\n",
    "\n",
    "Step-2: Open the Jupyter Notebook by first launching the anaconda software console\n",
    "\n",
    "Step-3: Open the .ipynb file and write your solutions at the appropriate location \"# YOUR CODE HERE\"\n",
    "\n",
    "Step-4: You can restart the kernel and click run all (in the menubar, select Cell → Run All) on the center-right on the top of this window.\n",
    "\n",
    "Step-5: Now go to \"File\" then click on \"Download as\" then click on \"Notebook (.ipynb)\" Please DO NOT change the file name and just keep it as .ipynb file format\n",
    "\n",
    "Step-6: Go to lms.rpi.edu and upload your notebook at the appropriate link to submit this homework. Make sure your answers are saved before you submit. \n",
    "\n",
    "#### Please note that for any question in this test you will receive points ONLY if your solution passes all the hidden testcases. So please make sure you try to think all possible scenarios before submitting your answers.  \n",
    "- Note that hidden tests are present to ensure you are not hardcoding. \n",
    "- If caught cheating: \n",
    "    - you will receive a score of 0 for the 1st violation. \n",
    "    - for repeated incidents, you will receive an automatic 'F' grade and will be reported to the dean of Lally School of Management. "
   ]
  },
  {
   "cell_type": "markdown",
   "id": "medieval-rally",
   "metadata": {
    "deletable": false,
    "editable": false,
    "nbgrader": {
     "cell_type": "markdown",
     "checksum": "931e6aaf0462bcf42b67412fe26e2d9d",
     "grade": false,
     "grade_id": "DataDesc",
     "locked": true,
     "schema_version": 3,
     "solution": false,
     "task": false
    }
   },
   "source": [
    "#### For this test, we will be using Stroke data provided by WHO. The dataset is used to predict whether a patient is likely to get stroke based on the input parameters like gender, age, various diseases, and smoking status \n",
    "<ul> \n",
    "    <li>id: unique identifier</li>\n",
    "    <li>gender: \"Male\", \"Female\" or \"Other\"</li>\n",
    "    <li>age: age of the patient</li>\n",
    "    <li>hypertension: 0 if the patient doesn't have hypertension, 1 if the patient has hypertension</li>\n",
    "    <li>heart_disease: 0 if the patient doesn't have any heart diseases, 1 if the patient has a heart disease</li>\n",
    "    <li>ever_married: \"No\" or \"Yes\"</li>\n",
    "    <li>work_type: 'Private', 'Self-employed', 'Govt_job', 'children', 'Never_worked'</li>\n",
    "    <li>Residence_type: \"Rural\" or \"Urban\"</li>\n",
    "    <li>avg_glucose_level: average glucose level in blood</li>\n",
    "    <li>bmi: body mass index</li>\n",
    "    <li>smoking_status: \"formerly smoked\", \"never smoked\", \"smokes\" or \"Unknown\"*</li>\n",
    "    <li>stroke: 1 if the patient had a stroke or 0 if not -- <b>Class label column</b> </li>\n",
    "</ul>\n",
    "*Note: \"Unknown\" in smoking_status means that the information is unavailable for this patient"
   ]
  },
  {
   "cell_type": "code",
   "execution_count": 1,
   "id": "arranged-fantasy",
   "metadata": {
    "deletable": false,
    "editable": false,
    "nbgrader": {
     "cell_type": "code",
     "checksum": "b86d3867df49f0ad2d0b4ae291af20ae",
     "grade": false,
     "grade_id": "LoadData",
     "locked": true,
     "schema_version": 3,
     "solution": false,
     "task": false
    }
   },
   "outputs": [
    {
     "data": {
      "text/html": [
       "<div>\n",
       "<style scoped>\n",
       "    .dataframe tbody tr th:only-of-type {\n",
       "        vertical-align: middle;\n",
       "    }\n",
       "\n",
       "    .dataframe tbody tr th {\n",
       "        vertical-align: top;\n",
       "    }\n",
       "\n",
       "    .dataframe thead th {\n",
       "        text-align: right;\n",
       "    }\n",
       "</style>\n",
       "<table border=\"1\" class=\"dataframe\">\n",
       "  <thead>\n",
       "    <tr style=\"text-align: right;\">\n",
       "      <th></th>\n",
       "      <th>id</th>\n",
       "      <th>gender</th>\n",
       "      <th>age</th>\n",
       "      <th>hypertension</th>\n",
       "      <th>heart_disease</th>\n",
       "      <th>ever_married</th>\n",
       "      <th>work_type</th>\n",
       "      <th>Residence_type</th>\n",
       "      <th>avg_glucose_level</th>\n",
       "      <th>bmi</th>\n",
       "      <th>smoking_status</th>\n",
       "      <th>stroke</th>\n",
       "    </tr>\n",
       "  </thead>\n",
       "  <tbody>\n",
       "    <tr>\n",
       "      <th>0</th>\n",
       "      <td>9046</td>\n",
       "      <td>Male</td>\n",
       "      <td>67.0</td>\n",
       "      <td>0</td>\n",
       "      <td>1</td>\n",
       "      <td>Yes</td>\n",
       "      <td>Private</td>\n",
       "      <td>Urban</td>\n",
       "      <td>228.69</td>\n",
       "      <td>36.6</td>\n",
       "      <td>formerly smoked</td>\n",
       "      <td>1</td>\n",
       "    </tr>\n",
       "    <tr>\n",
       "      <th>1</th>\n",
       "      <td>51676</td>\n",
       "      <td>Female</td>\n",
       "      <td>61.0</td>\n",
       "      <td>0</td>\n",
       "      <td>0</td>\n",
       "      <td>Yes</td>\n",
       "      <td>Self-employed</td>\n",
       "      <td>Rural</td>\n",
       "      <td>202.21</td>\n",
       "      <td>NaN</td>\n",
       "      <td>never smoked</td>\n",
       "      <td>1</td>\n",
       "    </tr>\n",
       "    <tr>\n",
       "      <th>2</th>\n",
       "      <td>31112</td>\n",
       "      <td>Male</td>\n",
       "      <td>80.0</td>\n",
       "      <td>0</td>\n",
       "      <td>1</td>\n",
       "      <td>Yes</td>\n",
       "      <td>Private</td>\n",
       "      <td>Rural</td>\n",
       "      <td>105.92</td>\n",
       "      <td>32.5</td>\n",
       "      <td>never smoked</td>\n",
       "      <td>1</td>\n",
       "    </tr>\n",
       "    <tr>\n",
       "      <th>3</th>\n",
       "      <td>60182</td>\n",
       "      <td>Female</td>\n",
       "      <td>49.0</td>\n",
       "      <td>0</td>\n",
       "      <td>0</td>\n",
       "      <td>Yes</td>\n",
       "      <td>Private</td>\n",
       "      <td>Urban</td>\n",
       "      <td>171.23</td>\n",
       "      <td>34.4</td>\n",
       "      <td>smokes</td>\n",
       "      <td>1</td>\n",
       "    </tr>\n",
       "    <tr>\n",
       "      <th>4</th>\n",
       "      <td>1665</td>\n",
       "      <td>Female</td>\n",
       "      <td>79.0</td>\n",
       "      <td>1</td>\n",
       "      <td>0</td>\n",
       "      <td>Yes</td>\n",
       "      <td>Self-employed</td>\n",
       "      <td>Rural</td>\n",
       "      <td>174.12</td>\n",
       "      <td>24.0</td>\n",
       "      <td>never smoked</td>\n",
       "      <td>1</td>\n",
       "    </tr>\n",
       "  </tbody>\n",
       "</table>\n",
       "</div>"
      ],
      "text/plain": [
       "      id  gender   age  hypertension  heart_disease ever_married  \\\n",
       "0   9046    Male  67.0             0              1          Yes   \n",
       "1  51676  Female  61.0             0              0          Yes   \n",
       "2  31112    Male  80.0             0              1          Yes   \n",
       "3  60182  Female  49.0             0              0          Yes   \n",
       "4   1665  Female  79.0             1              0          Yes   \n",
       "\n",
       "       work_type Residence_type  avg_glucose_level   bmi   smoking_status  \\\n",
       "0        Private          Urban             228.69  36.6  formerly smoked   \n",
       "1  Self-employed          Rural             202.21   NaN     never smoked   \n",
       "2        Private          Rural             105.92  32.5     never smoked   \n",
       "3        Private          Urban             171.23  34.4           smokes   \n",
       "4  Self-employed          Rural             174.12  24.0     never smoked   \n",
       "\n",
       "   stroke  \n",
       "0       1  \n",
       "1       1  \n",
       "2       1  \n",
       "3       1  \n",
       "4       1  "
      ]
     },
     "execution_count": 1,
     "metadata": {},
     "output_type": "execute_result"
    }
   ],
   "source": [
    "#Please run this cell before answering the following questions \n",
    "import numpy as np\n",
    "import pandas as pd\n",
    "\n",
    "df = pd.read_csv('https://raw.githubusercontent.com/lmanikon/lmanikon.github.io/master/teaching/datasets/KaggleStroke.csv')\n",
    "df.head()\n"
   ]
  },
  {
   "cell_type": "markdown",
   "id": "chief-mailman",
   "metadata": {
    "deletable": false,
    "editable": false,
    "nbgrader": {
     "cell_type": "markdown",
     "checksum": "2192f23052164024dbc6b68b1d9d36b3",
     "grade": false,
     "grade_id": "Q1",
     "locked": true,
     "schema_version": 3,
     "solution": false,
     "task": false
    }
   },
   "source": [
    "### Q-1 [10 points] Please answer the following questions in the same order: \n",
    "\n",
    "1. Assign variable `rows` and `cols` with the total number of data points and the number of attributes present in the dataframe df.\n",
    "2. Assign the list `colnames` with the names of features present in this dataframe df.\n",
    "3. Find the value of `age` associated with the sample whose `id` is `1665` and assign this value to variable `sid1665_age`.\n",
    "4. Find the total number of missing values in 'smoking_status' column and assign it to variable `sstat_mvals`.\n",
    "5. Remove the column `id` from the dataframe `df`. Make sure this is reflected in the dataframe."
   ]
  },
  {
   "cell_type": "code",
   "execution_count": 2,
   "id": "related-scholarship",
   "metadata": {
    "deletable": false,
    "nbgrader": {
     "cell_type": "code",
     "checksum": "275a138e0414720efee8bd2fa816738f",
     "grade": false,
     "grade_id": "Q1-Sol",
     "locked": false,
     "schema_version": 3,
     "solution": true,
     "task": false
    }
   },
   "outputs": [],
   "source": [
    "#Please make sure you use the exact names for variables including the casing of letters\n",
    "\n",
    "# YOUR CODE HERE\n",
    "rows = len(df.axes[0])\n",
    "cols = len(df.axes[1])\n",
    "\n",
    "colnames = list(df.columns)\n",
    "\n",
    "for i in range(len(df['id'])):\n",
    "    if df['id'][i] == 1665:\n",
    "        sid1665_age = df['age'][i]\n",
    "        \n",
    "sstat_mvals = df['smoking_status'].isnull().sum()\n",
    "\n",
    "df = df.drop(columns=\"id\")"
   ]
  },
  {
   "cell_type": "code",
   "execution_count": 3,
   "id": "f4e05cf5",
   "metadata": {
    "deletable": false,
    "editable": false,
    "nbgrader": {
     "cell_type": "code",
     "checksum": "cb7992bb2d663127bb96b50bf782cb9b",
     "grade": false,
     "grade_id": "val1",
     "locked": true,
     "schema_version": 3,
     "solution": false,
     "task": false
    }
   },
   "outputs": [],
   "source": [
    "#This will test that you have not mislabeled a variable. \n",
    "assert 'rows' in globals()\n",
    "assert 'cols' in globals()\n",
    "assert 'colnames' in globals()\n",
    "assert 'sid1665_age' in globals()\n",
    "assert 'sstat_mvals' in globals()\n"
   ]
  },
  {
   "cell_type": "code",
   "execution_count": 4,
   "id": "accompanied-environment",
   "metadata": {
    "deletable": false,
    "editable": false,
    "nbgrader": {
     "cell_type": "code",
     "checksum": "5d1230cf58f0e709924711049285b593",
     "grade": true,
     "grade_id": "1a",
     "locked": true,
     "points": 1,
     "schema_version": 3,
     "solution": false,
     "task": false
    }
   },
   "outputs": [],
   "source": [
    "#Test cell-1 [1pts] Hidden tests\n",
    "#DO NOT MODIFY/DELETE THIS CELL \n",
    "\n"
   ]
  },
  {
   "cell_type": "code",
   "execution_count": 5,
   "id": "bc39f07e",
   "metadata": {
    "deletable": false,
    "editable": false,
    "nbgrader": {
     "cell_type": "code",
     "checksum": "f346bc6a010ca95aeed0e0a5a30b3410",
     "grade": true,
     "grade_id": "1b",
     "locked": true,
     "points": 1,
     "schema_version": 3,
     "solution": false,
     "task": false
    }
   },
   "outputs": [],
   "source": [
    "#Test cell-1 [1pts] Hidden tests\n",
    "#DO NOT MODIFY/DELETE THIS CELL \n"
   ]
  },
  {
   "cell_type": "code",
   "execution_count": 6,
   "id": "systematic-pharmacy",
   "metadata": {
    "deletable": false,
    "editable": false,
    "nbgrader": {
     "cell_type": "code",
     "checksum": "32e614dbb9e71adf6b7b700a2ae016b5",
     "grade": true,
     "grade_id": "2",
     "locked": true,
     "points": 2,
     "schema_version": 3,
     "solution": false,
     "task": false
    }
   },
   "outputs": [],
   "source": [
    "#Test cell-2 [2pts] Hidden tests\n",
    "#DO NOT MODIFY/DELETE THIS CELL \n",
    "\n"
   ]
  },
  {
   "cell_type": "code",
   "execution_count": 7,
   "id": "cutting-timber",
   "metadata": {
    "deletable": false,
    "editable": false,
    "nbgrader": {
     "cell_type": "code",
     "checksum": "9463f7210c5d0a34a4057ab210d0efda",
     "grade": true,
     "grade_id": "3",
     "locked": true,
     "points": 2,
     "schema_version": 3,
     "solution": false,
     "task": false
    }
   },
   "outputs": [],
   "source": [
    "#Test cell-3 [2pts] Hidden tests\n",
    "#DO NOT MODIFY/DELETE THIS CELL \n",
    "\n"
   ]
  },
  {
   "cell_type": "code",
   "execution_count": 8,
   "id": "behavioral-seating",
   "metadata": {
    "deletable": false,
    "editable": false,
    "nbgrader": {
     "cell_type": "code",
     "checksum": "88aeb09f8e8a0d9bd5adbb664743547a",
     "grade": true,
     "grade_id": "4",
     "locked": true,
     "points": 2,
     "schema_version": 3,
     "solution": false,
     "task": false
    }
   },
   "outputs": [],
   "source": [
    "#Test cell-4 [2pts] Hidden tests\n",
    "#DO NOT MODIFY/DELETE THIS CELL \n",
    "\n",
    "\n"
   ]
  },
  {
   "cell_type": "code",
   "execution_count": 9,
   "id": "opposite-dodge",
   "metadata": {
    "deletable": false,
    "editable": false,
    "nbgrader": {
     "cell_type": "code",
     "checksum": "0e05131e8e1f7fb8e8a99ffb48e4e667",
     "grade": true,
     "grade_id": "5",
     "locked": true,
     "points": 2,
     "schema_version": 3,
     "solution": false,
     "task": false
    }
   },
   "outputs": [],
   "source": [
    "#Test cell-5 [2pts] Hidden tests\n",
    "#DO NOT MODIFY/DELETE THIS CELL \n",
    "\n"
   ]
  },
  {
   "cell_type": "markdown",
   "id": "smooth-mirror",
   "metadata": {
    "deletable": false,
    "editable": false,
    "nbgrader": {
     "cell_type": "markdown",
     "checksum": "1d6c44e7572509c15fe92b647aa0de0b",
     "grade": false,
     "grade_id": "Q2",
     "locked": true,
     "schema_version": 3,
     "solution": false,
     "task": false
    }
   },
   "source": [
    "### Q-2 [15 points] Please answer the following questions in the same order: \n",
    "\n",
    "1. Perform one-hot encoding on the dataframe df using Pandas `get_dummies()`. Save this newly transformed data frame as `newdf`. For each of the `N` categories generate `N-1` dummy variables. You can pass all values to the get dummies functions and let it decide which is a categorical variable. \n",
    "2. Replace all the missing values in this transformed data frame `newdf` with the average value of the corresponding column.\n",
    "3. Split the data frame `newdf` into a data frame `X` that includes all the feature columns, and a series `y` that includes ONLY the class label column, which is `stroke`. Please follow the case format of variables used here -- otherwise, your code wont pass the testcases.\n",
    "\n",
    "More details about the `get_dummies()` function can be found here: \n",
    "<a href=\"https://pandas.pydata.org/docs/reference/api/pandas.get_dummies.html\"> Link </a>\n",
    "\n"
   ]
  },
  {
   "cell_type": "code",
   "execution_count": 10,
   "id": "solid-initial",
   "metadata": {
    "deletable": false,
    "nbgrader": {
     "cell_type": "code",
     "checksum": "97dd9692f710944b549c563c570a1cf5",
     "grade": false,
     "grade_id": "Q2-Sol",
     "locked": false,
     "schema_version": 3,
     "solution": true,
     "task": false
    }
   },
   "outputs": [],
   "source": [
    "#Please make sure you use the exact names for variables including the casing of letters\n",
    "\n",
    "# YOUR CODE HERE\n",
    "newdf = pd.get_dummies(df, drop_first = True)\n",
    "newdf['bmi'] = newdf['bmi'].fillna(newdf['bmi'].mean())\n",
    "X = newdf.drop(['stroke'],axis=1)\n",
    "y = newdf[['stroke']]\n"
   ]
  },
  {
   "cell_type": "code",
   "execution_count": 11,
   "id": "aafc987c",
   "metadata": {},
   "outputs": [],
   "source": [
    "#Variable Checks\n",
    "assert 'newdf' in globals()\n",
    "assert 'X' in globals()\n",
    "assert 'y' in globals()"
   ]
  },
  {
   "cell_type": "code",
   "execution_count": 12,
   "id": "demonstrated-platform",
   "metadata": {
    "deletable": false,
    "editable": false,
    "nbgrader": {
     "cell_type": "code",
     "checksum": "429850dcef428eb325d824e3ea14ec3e",
     "grade": true,
     "grade_id": "6a",
     "locked": true,
     "points": 3,
     "schema_version": 3,
     "solution": false,
     "task": false
    }
   },
   "outputs": [],
   "source": [
    "#Test cell-6 [2pts] Hidden tests\n",
    "#DO NOT MODIFY/DELETE THIS CELL \n"
   ]
  },
  {
   "cell_type": "code",
   "execution_count": 13,
   "id": "079e6ca8",
   "metadata": {
    "deletable": false,
    "editable": false,
    "nbgrader": {
     "cell_type": "code",
     "checksum": "b763a1c7aa1391a1ed181f858e9df7b2",
     "grade": true,
     "grade_id": "6b",
     "locked": true,
     "points": 3,
     "schema_version": 3,
     "solution": false,
     "task": false
    }
   },
   "outputs": [],
   "source": [
    "#Test cell-6 [3pts] Hidden tests\n",
    "#DO NOT MODIFY/DELETE THIS CELL \n",
    "\n"
   ]
  },
  {
   "cell_type": "code",
   "execution_count": 14,
   "id": "sufficient-hundred",
   "metadata": {
    "deletable": false,
    "editable": false,
    "nbgrader": {
     "cell_type": "code",
     "checksum": "22bfc1f868a99c5cfded2b7303c01017",
     "grade": true,
     "grade_id": "7a",
     "locked": true,
     "points": 3,
     "schema_version": 3,
     "solution": false,
     "task": false
    }
   },
   "outputs": [],
   "source": [
    "#Test cell-7 [5pts] Hidden tests\n",
    "#DO NOT MODIFY/DELETE THIS CELL \n",
    "\n"
   ]
  },
  {
   "cell_type": "code",
   "execution_count": 15,
   "id": "c7607d12",
   "metadata": {
    "deletable": false,
    "editable": false,
    "nbgrader": {
     "cell_type": "code",
     "checksum": "39a706cc2f50ac297533dee93257b4a2",
     "grade": true,
     "grade_id": "7b",
     "locked": true,
     "points": 3,
     "schema_version": 3,
     "solution": false,
     "task": false
    }
   },
   "outputs": [],
   "source": [
    "#Test cell-7 [5pts] Hidden tests\n",
    "#DO NOT MODIFY/DELETE THIS CELL \n",
    "\n"
   ]
  },
  {
   "cell_type": "code",
   "execution_count": 16,
   "id": "graduate-governor",
   "metadata": {
    "deletable": false,
    "editable": false,
    "nbgrader": {
     "cell_type": "code",
     "checksum": "b77b71e279a8e1f2c35eb5bc45c3577f",
     "grade": true,
     "grade_id": "8",
     "locked": true,
     "points": 3,
     "schema_version": 3,
     "solution": false,
     "task": false
    }
   },
   "outputs": [],
   "source": [
    "#Test cell-8 [5pts] Hidden tests\n",
    "#DO NOT MODIFY/DELETE THIS CELL \n",
    "\n"
   ]
  },
  {
   "cell_type": "markdown",
   "id": "correct-rates",
   "metadata": {
    "deletable": false,
    "editable": false,
    "nbgrader": {
     "cell_type": "markdown",
     "checksum": "6b3abe187172c0cc1300f8d60bf19cca",
     "grade": false,
     "grade_id": "Q3",
     "locked": true,
     "schema_version": 3,
     "solution": false,
     "task": false
    }
   },
   "source": [
    "### Q-3 [15 points] Please answer the following questions in the same order: \n",
    "\n",
    "\n",
    "1. Create a list of values (`y2_pred`) with all values as 1 and it has the same length as class label `y2`.\n",
    "2. Compute accuracy using the ground truth labels `y2` and synthetically created predicted labels `y2_pred` and save it as a variable `accu`. \n",
    "3. Compute the precision and recall values using `y2` and `y2_pred` and assign these values to variables `prec`, and `recall` respectively. \n",
    "4. Compute the `F-score` and assign it to variable `fscore`. \n",
    "5. Transform `X2` to `X2_st` using the `MinMaxScaler`. `X2_st` should be a `numpy` array. \n",
    "\n",
    "\n"
   ]
  },
  {
   "cell_type": "code",
   "execution_count": 17,
   "id": "88932950",
   "metadata": {
    "deletable": false,
    "editable": false,
    "nbgrader": {
     "cell_type": "code",
     "checksum": "bfe5168f398ca36e2d9327757cca29e1",
     "grade": false,
     "grade_id": "cell-7ab691722dc22709",
     "locked": true,
     "schema_version": 3,
     "solution": false,
     "task": false
    }
   },
   "outputs": [],
   "source": [
    "#Load data for this question. Don't change this cell.\n",
    "X2=pd.read_csv('https://raw.githubusercontent.com/rpi-techfundamentals/website_fall_2022/master/site/public/X2.csv')\n",
    "y2=X2['stroke']\n",
    "X2=X2.iloc[:,:4]\n"
   ]
  },
  {
   "cell_type": "code",
   "execution_count": 18,
   "id": "hungry-newark",
   "metadata": {
    "deletable": false,
    "nbgrader": {
     "cell_type": "code",
     "checksum": "5bc25da9efcff6203f2d42f853069f46",
     "grade": false,
     "grade_id": "Q3-Sol",
     "locked": false,
     "schema_version": 3,
     "solution": true,
     "task": false
    }
   },
   "outputs": [],
   "source": [
    "#Please make sure you use the exact names for variables including the casing of letters\n",
    "\n",
    "\n",
    "# YOUR CODE HERE\n",
    "import numpy\n",
    "from sklearn.metrics import accuracy_score\n",
    "from sklearn.metrics import precision_score\n",
    "from sklearn.metrics import recall_score\n",
    "from sklearn.preprocessing import MinMaxScaler\n",
    "\n",
    "y2_pred = [1]*len(y2)\n",
    "\n",
    "accu = accuracy_score(y2,y2_pred)\n",
    "\n",
    "prec = precision_score(y2,y2_pred)\n",
    "recall = recall_score(y2,y2_pred)\n",
    "\n",
    "fscore = 2 * (prec * recall) / (prec + recall)\n",
    "\n",
    "X2_st = numpy.array(MinMaxScaler(X2))\n"
   ]
  },
  {
   "cell_type": "code",
   "execution_count": 19,
   "id": "c5df0ec9",
   "metadata": {},
   "outputs": [],
   "source": [
    "#Variable Checks\n",
    "\n",
    "assert 'y2_pred' in globals()\n",
    "assert 'accu' in globals()\n",
    "assert 'prec' in globals()\n",
    "assert 'recall' in globals()\n",
    "assert 'fscore' in globals()\n",
    "assert 'X2_st' in globals()"
   ]
  },
  {
   "cell_type": "code",
   "execution_count": 20,
   "id": "dutch-thesis",
   "metadata": {
    "deletable": false,
    "editable": false,
    "nbgrader": {
     "cell_type": "code",
     "checksum": "482104d916621ab2df2afd1a1dda36cb",
     "grade": true,
     "grade_id": "10",
     "locked": true,
     "points": 3,
     "schema_version": 3,
     "solution": false,
     "task": false
    }
   },
   "outputs": [],
   "source": [
    "#Test cell-10 [2pts] Hidden tests\n",
    "#DO NOT MODIFY/DELETE THIS CELL \n",
    "\n"
   ]
  },
  {
   "cell_type": "code",
   "execution_count": 21,
   "id": "operational-portland",
   "metadata": {
    "deletable": false,
    "editable": false,
    "nbgrader": {
     "cell_type": "code",
     "checksum": "2fc4eb51a7863c215b5b3c18294fa6a6",
     "grade": true,
     "grade_id": "11",
     "locked": true,
     "points": 2,
     "schema_version": 3,
     "solution": false,
     "task": false
    }
   },
   "outputs": [],
   "source": [
    "#Test cell-11 [2pts] Hidden tests\n",
    "#DO NOT MODIFY/DELETE THIS CELL \n",
    "\n"
   ]
  },
  {
   "cell_type": "code",
   "execution_count": 22,
   "id": "toxic-direction",
   "metadata": {
    "deletable": false,
    "editable": false,
    "nbgrader": {
     "cell_type": "code",
     "checksum": "05ee733557c3471a82062da9a198aef2",
     "grade": true,
     "grade_id": "12a",
     "locked": true,
     "points": 2,
     "schema_version": 3,
     "solution": false,
     "task": false
    }
   },
   "outputs": [],
   "source": [
    "#Test cell-12 [2pts] Hidden tests\n",
    "#DO NOT MODIFY/DELETE THIS CELL \n",
    "\n"
   ]
  },
  {
   "cell_type": "code",
   "execution_count": 23,
   "id": "2bc7fbbd",
   "metadata": {
    "deletable": false,
    "editable": false,
    "nbgrader": {
     "cell_type": "code",
     "checksum": "448b438b0fd724f3cebd4e6a6f3650b4",
     "grade": true,
     "grade_id": "12b",
     "locked": true,
     "points": 2,
     "schema_version": 3,
     "solution": false,
     "task": false
    }
   },
   "outputs": [],
   "source": [
    "#Test cell-12 [2pts] Hidden tests\n",
    "#DO NOT MODIFY/DELETE THIS CELL \n",
    "\n"
   ]
  },
  {
   "cell_type": "code",
   "execution_count": 24,
   "id": "animal-carry",
   "metadata": {
    "deletable": false,
    "editable": false,
    "nbgrader": {
     "cell_type": "code",
     "checksum": "6814314055347ea1f66a6c2c7581497e",
     "grade": true,
     "grade_id": "13",
     "locked": true,
     "points": 2,
     "schema_version": 3,
     "solution": false,
     "task": false
    }
   },
   "outputs": [],
   "source": [
    "#Test cell-13 [2pts] Hidden tests\n",
    "#DO NOT MODIFY/DELETE THIS CELL \n",
    "\n"
   ]
  },
  {
   "cell_type": "code",
   "execution_count": 25,
   "id": "807ea560",
   "metadata": {
    "deletable": false,
    "editable": false,
    "nbgrader": {
     "cell_type": "code",
     "checksum": "2143b32a3d253cd49c64f59dfa2fa4e0",
     "grade": true,
     "grade_id": "14",
     "locked": true,
     "points": 2,
     "schema_version": 3,
     "solution": false,
     "task": false
    }
   },
   "outputs": [],
   "source": [
    "#Test cell-14 [3pts] Hidden tests\n",
    "#DO NOT MODIFY/DELETE THIS CELL \n",
    "\n"
   ]
  },
  {
   "cell_type": "code",
   "execution_count": 26,
   "id": "5508259b",
   "metadata": {
    "deletable": false,
    "editable": false,
    "nbgrader": {
     "cell_type": "code",
     "checksum": "94305a9c798c4acbf253aa62a4e7a2cf",
     "grade": true,
     "grade_id": "15",
     "locked": true,
     "points": 2,
     "schema_version": 3,
     "solution": false,
     "task": false
    }
   },
   "outputs": [],
   "source": [
    "#Test cell-15 [2pts] Hidden tests\n",
    "#DO NOT MODIFY/DELETE THIS CELL \n",
    "\n",
    "\n",
    "\n"
   ]
  }
 ],
 "metadata": {
  "kernelspec": {
   "display_name": "Python 3 (ipykernel)",
   "language": "python",
   "name": "python3"
  },
  "language_info": {
   "codemirror_mode": {
    "name": "ipython",
    "version": 3
   },
   "file_extension": ".py",
   "mimetype": "text/x-python",
   "name": "python",
   "nbconvert_exporter": "python",
   "pygments_lexer": "ipython3",
   "version": "3.9.12"
  }
 },
 "nbformat": 4,
 "nbformat_minor": 5
}
