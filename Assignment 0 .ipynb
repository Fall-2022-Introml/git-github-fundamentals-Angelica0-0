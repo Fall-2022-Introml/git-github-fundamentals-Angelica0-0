{
 "cells": [
  {
   "cell_type": "code",
   "execution_count": 1,
   "id": "fb708d7e",
   "metadata": {},
   "outputs": [
    {
     "name": "stdout",
     "output_type": "stream",
     "text": [
      "1: #pythonrules 30 True\n",
      "2: String: #pythonrules Integer: 30 Boolean: True\n",
      "3: String: #pythonrules \tInteger: 30 \tBoolean: True\n",
      "4a: String: #pythonrules \n",
      "4b: Integer: 30 \n",
      "4c: Boolean: True\n",
      "#pythonrules30\n"
     ]
    }
   ],
   "source": [
    "a = '#pythonrules'  # string\n",
    "b = 30              # integer\n",
    "c = True            # boolean\n",
    "\n",
    "#This prints (1) only the variables, (2) with labels, (3) including tabs, and (4) with new lines.\n",
    "print('1:', a,  b, c)\n",
    "print('2:','String:', a, 'Integer:', b, 'Boolean:', c)\n",
    "print('3:','String:', a, '\\tInteger:', b, '\\tBoolean:', c)\n",
    "print('4a:','String:', a, '\\n4b: Integer:', b, '\\n4c: Boolean:', c)\n",
    "print(a+str(b))"
   ]
  },
  {
   "cell_type": "code",
   "execution_count": 2,
   "id": "91beff73",
   "metadata": {},
   "outputs": [
    {
     "data": {
      "text/plain": [
       "10"
      ]
     },
     "execution_count": 2,
     "metadata": {},
     "output_type": "execute_result"
    }
   ],
   "source": [
    "g=5+5\n",
    "g"
   ]
  },
  {
   "cell_type": "code",
   "execution_count": 7,
   "id": "c6d0c386",
   "metadata": {},
   "outputs": [
    {
     "data": {
      "text/plain": [
       "'lyh love xzq'"
      ]
     },
     "execution_count": 7,
     "metadata": {},
     "output_type": "execute_result"
    }
   ],
   "source": [
    "a=\"lyh \"\n",
    "b=\" xzq\"\n",
    "c=\"love\"\n",
    "a+c+b"
   ]
  },
  {
   "cell_type": "code",
   "execution_count": 22,
   "id": "bcb5e5b5",
   "metadata": {},
   "outputs": [
    {
     "ename": "SyntaxError",
     "evalue": "invalid syntax (2531550902.py, line 2)",
     "output_type": "error",
     "traceback": [
      "\u001b[0;36m  Input \u001b[0;32mIn [22]\u001b[0;36m\u001b[0m\n\u001b[0;31m    for i in range(2:5):\u001b[0m\n\u001b[0m                    ^\u001b[0m\n\u001b[0;31mSyntaxError\u001b[0m\u001b[0;31m:\u001b[0m invalid syntax\n"
     ]
    }
   ],
   "source": [
    "sum=2\n",
    "for i in range(5):\n",
    "    sum=sum+i\n",
    "    \n",
    "print(sum)"
   ]
  },
  {
   "cell_type": "code",
   "execution_count": null,
   "id": "3d92d27a",
   "metadata": {},
   "outputs": [],
   "source": []
  }
 ],
 "metadata": {
  "kernelspec": {
   "display_name": "Python 3 (ipykernel)",
   "language": "python",
   "name": "python3"
  },
  "language_info": {
   "codemirror_mode": {
    "name": "ipython",
    "version": 3
   },
   "file_extension": ".py",
   "mimetype": "text/x-python",
   "name": "python",
   "nbconvert_exporter": "python",
   "pygments_lexer": "ipython3",
   "version": "3.9.12"
  }
 },
 "nbformat": 4,
 "nbformat_minor": 5
}
