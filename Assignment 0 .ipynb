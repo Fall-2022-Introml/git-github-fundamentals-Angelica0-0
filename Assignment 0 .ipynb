{
 "cells": [
  {
   "cell_type": "code",
   "execution_count": 1,
   "id": "b1aae909",
   "metadata": {},
   "outputs": [
    {
     "name": "stdout",
     "output_type": "stream",
     "text": [
      "1: #pythonrules 30 True\n",
      "2: String: #pythonrules Integer: 30 Boolean: True\n",
      "3: String: #pythonrules \tInteger: 30 \tBoolean: True\n",
      "4a: String: #pythonrules \n",
      "4b: Integer: 30 \n",
      "4c: Boolean: True\n",
      "#pythonrules30\n"
     ]
    }
   ],
   "source": [
    "a = '#pythonrules'  # string\n",
    "b = 30              # integer\n",
    "c = True            # boolean\n",
    "\n",
    "#This prints (1) only the variables, (2) with labels, (3) including tabs, and (4) with new lines.\n",
    "print('1:', a,  b, c)\n",
    "print('2:','String:', a, 'Integer:', b, 'Boolean:', c)\n",
    "print('3:','String:', a, '\\tInteger:', b, '\\tBoolean:', c)\n",
    "print('4a:','String:', a, '\\n4b: Integer:', b, '\\n4c: Boolean:', c)\n",
    "print(a+str(b))"
   ]
  },
  {
   "cell_type": "code",
   "execution_count": null,
   "id": "02c6c5c5",
   "metadata": {},
   "outputs": [],
   "source": []
  },
  {
   "cell_type": "code",
   "execution_count": null,
   "id": "3ddf38ba",
   "metadata": {},
   "outputs": [],
   "source": []
  }
 ],
 "metadata": {
  "kernelspec": {
   "display_name": "Python 3 (ipykernel)",
   "language": "python",
   "name": "python3"
  },
  "language_info": {
   "codemirror_mode": {
    "name": "ipython",
    "version": 3
   },
   "file_extension": ".py",
   "mimetype": "text/x-python",
   "name": "python",
   "nbconvert_exporter": "python",
   "pygments_lexer": "ipython3",
   "version": "3.9.12"
  }
 },
 "nbformat": 4,
 "nbformat_minor": 5
}
